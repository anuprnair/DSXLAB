{
 "cells": [
  {
   "cell_type": "markdown",
   "metadata": {
    "collapsed": true,
    "deletable": true,
    "editable": true
   },
   "source": [
    "# ML Notebook for Banking Churn Model"
   ]
  },
  {
   "cell_type": "markdown",
   "metadata": {
    "deletable": true,
    "editable": true
   },
   "source": [
    "## Importing Brunel and ML Libraries"
   ]
  },
  {
   "cell_type": "code",
   "execution_count": 1,
   "metadata": {
    "collapsed": false,
    "deletable": true,
    "editable": true
   },
   "outputs": [
    {
     "name": "stdout",
     "output_type": "stream",
     "text": [
      "Starting download from https://brunelvis.org/jar/spark-kernel-brunel-all-2.3.jar\n",
      "Finished download of spark-kernel-brunel-all-2.3.jar\n"
     ]
    }
   ],
   "source": [
    "%AddJar -magic https://brunelvis.org/jar/spark-kernel-brunel-all-2.3.jar -f"
   ]
  },
  {
   "cell_type": "code",
   "execution_count": 2,
   "metadata": {
    "collapsed": true,
    "deletable": true,
    "editable": true
   },
   "outputs": [],
   "source": [
    "//import libraries\n",
    "import org.apache.spark.{SparkConf, SparkContext, SparkFiles}\n",
    "import org.apache.spark.sql.{SQLContext, SparkSession, Row}\n",
    "import org.apache.spark.SparkFiles\n",
    "\n",
    "import org.apache.spark.ml.feature.{StringIndexer, IndexToString, VectorIndexer, VectorAssembler}\n",
    "import org.apache.spark.ml.regression.LinearRegression\n",
    "import org.apache.spark.ml.classification.{LogisticRegression, DecisionTreeClassifier}\n",
    "import org.apache.spark.ml.evaluation.BinaryClassificationEvaluator\n",
    "import org.apache.spark.ml.{Pipeline, PipelineStage}\n",
    "import org.apache.spark.ml.ibm.transformers.RenameColumn\n",
    "\n",
    "import com.ibm.analytics.ngp.ingest.Sampling\n",
    "import com.ibm.analytics.ngp.util._\n",
    "import com.ibm.analytics.ngp.pipeline.evaluate.{Evaluator,MLProblemType}\n",
    "\n",
    "import com.ibm.analytics.wml.{Learner, Target}\n",
    "import com.ibm.analytics.wml.cads.CADSEstimator"
   ]
  },
  {
   "cell_type": "markdown",
   "metadata": {
    "deletable": true,
    "editable": true
   },
   "source": [
    "# Loading Data"
   ]
  },
  {
   "cell_type": "code",
   "execution_count": 1,
   "metadata": {
    "collapsed": false,
    "deletable": true,
    "editable": true
   },
   "outputs": [
    {
     "name": "stdout",
     "output_type": "stream",
     "text": [
      "+------+---+----------+-------+--------+---------+------------+-------+----------+---------+-----+----------------+-----+\n",
      "|GENDER|AGE|INVESTMENT| INCOME|ACTIVITY| YRLY_AMT|AVG_DAILY_TX|YRLY_TX|AVG_TX_AMT|NEGTWEETS|STATE|       EDUCATION|label|\n",
      "+------+---+----------+-------+--------+---------+------------+-------+----------+---------+-----+----------------+-----+\n",
      "|     F| 84|    114368|3852862|       5| 700259.0|    0.917808|    335|   2090.32|        3|   TX|Bachelors degree|  0.0|\n",
      "|     F| 44|     90298|3849843|       1| 726977.0|    0.950685|    347|   2095.04|        2|   CA|Bachelors degree|  0.0|\n",
      "|     F| 23|     94881|3217364|       1| 579084.0|    0.920548|    336|   1723.46|        5|   CA|Bachelors degree|  1.0|\n",
      "|     F| 24|    112099|2438218|       4| 470964.0|    0.994521|    363| 1297.4199|        2|   WA|Bachelors degree|  1.0|\n",
      "|     F| 67|     84638|2428245|       3| 446615.0|    0.917808|    335| 1333.1799|        3|   CT|       Doctorate|  0.0|\n",
      "+------+---+----------+-------+--------+---------+------------+-------+----------+---------+-----+----------------+-----+\n",
      "only showing top 5 rows\n",
      "\n"
     ]
    }
   ],
   "source": [
    "// Insert \"cust_summary_notebook_training.csv\" data set as Spark DataFrame\n",
    "\n",
    "import org.apache.spark.sql.SQLContext\n",
    "val sqlContext = new SQLContext(sc)\n",
    "// Add data asset from file system\n",
    "val df2 = sqlContext.read.format(\"csv\").option(\"header\", \"true\").option(\"inferSchema\", \"true\").option(\"mode\", \"DROPMALFORMED\").csv(sys.env(\"DSX_PROJECT_DIR\")+\"/datasets/cust_summary_notebook_training.csv\")\n",
    "df2.show(5)"
   ]
  },
  {
   "cell_type": "code",
   "execution_count": 2,
   "metadata": {
    "collapsed": false,
    "deletable": true,
    "editable": true
   },
   "outputs": [
    {
     "name": "stdout",
     "output_type": "stream",
     "text": [
      "+---+--------+----------------+------+-----+---------+-------+-----+\n",
      "|AGE|ACTIVITY|       EDUCATION|GENDER|STATE|NEGTWEETS| INCOME|label|\n",
      "+---+--------+----------------+------+-----+---------+-------+-----+\n",
      "| 84|       5|Bachelors degree|     F|   TX|        3|3852862|  0.0|\n",
      "| 44|       1|Bachelors degree|     F|   CA|        2|3849843|  0.0|\n",
      "| 23|       1|Bachelors degree|     F|   CA|        5|3217364|  1.0|\n",
      "| 24|       4|Bachelors degree|     F|   WA|        2|2438218|  1.0|\n",
      "| 67|       3|       Doctorate|     F|   CT|        3|2428245|  0.0|\n",
      "+---+--------+----------------+------+-----+---------+-------+-----+\n",
      "only showing top 5 rows\n",
      "\n"
     ]
    }
   ],
   "source": [
    "val churnDataRaw = df2\n",
    "\n",
    "import org.apache.spark.sql.SparkSession\n",
    "import org.apache.spark.sql.functions._ \n",
    "\n",
    "val churnData = churnDataRaw.select(\"AGE\", \"ACTIVITY\", \"EDUCATION\", \"GENDER\", \"STATE\", \"NEGTWEETS\", \"INCOME\", \"label\")\n",
    "churnData.show(5)"
   ]
  },
  {
   "cell_type": "code",
   "execution_count": 4,
   "metadata": {
    "collapsed": false,
    "deletable": true,
    "editable": true
   },
   "outputs": [
    {
     "name": "stdout",
     "output_type": "stream",
     "text": [
      "Training data set\n",
      "+---+--------+--------------------+------+-----+---------+------+-----+\n",
      "|AGE|ACTIVITY|           EDUCATION|GENDER|STATE|NEGTWEETS|INCOME|label|\n",
      "+---+--------+--------------------+------+-----+---------+------+-----+\n",
      "| 20|       0|High school graduate|     F|   CA|        7| 17088|  1.0|\n",
      "| 20|       0|High school graduate|     F|   ID|       13| 17877|  1.0|\n",
      "| 20|       0|High school graduate|     F|   WA|       15| 15497|  1.0|\n",
      "| 20|       0|High school graduate|     M|   CA|        7| 16982|  1.0|\n",
      "| 20|       1|    Associate degree|     F|   PA|       15| 26700|  1.0|\n",
      "+---+--------+--------------------+------+-----+---------+------+-----+\n",
      "only showing top 5 rows\n",
      "\n",
      "Testing data set\n",
      "+---+--------+--------------------+------+-----+---------+------+-----+\n",
      "|AGE|ACTIVITY|           EDUCATION|GENDER|STATE|NEGTWEETS|INCOME|label|\n",
      "+---+--------+--------------------+------+-----+---------+------+-----+\n",
      "| 20|       1|High school graduate|     F|   ID|        7| 19761|  1.0|\n",
      "| 20|       1|High school graduate|     M|   ID|        6| 18453|  1.0|\n",
      "| 20|       1|High school graduate|     M|   WV|        4| 20614|  0.0|\n",
      "| 20|       2|High school graduate|     F|   AK|        3| 15188|  0.0|\n",
      "| 21|       0|    Bachelors degree|     F|   MD|        9| 44561|  1.0|\n",
      "+---+--------+--------------------+------+-----+---------+------+-----+\n",
      "only showing top 5 rows\n",
      "\n",
      "Validation data set\n",
      "+---+--------+--------------------+------+-----+---------+------+-----+\n",
      "|AGE|ACTIVITY|           EDUCATION|GENDER|STATE|NEGTWEETS|INCOME|label|\n",
      "+---+--------+--------------------+------+-----+---------+------+-----+\n",
      "| 20|       1|High school graduate|     F|   PA|        6| 19556|  1.0|\n",
      "| 20|       2|High school graduate|     M|   AL|        3| 35429|  0.0|\n",
      "| 20|       5|    Associate degree|     M|   ID|        8| 51219|  1.0|\n",
      "| 20|       5|High school graduate|     M|   PA|       15| 14156|  1.0|\n",
      "| 21|       0|    Associate degree|     F|   MD|       18| 27048|  1.0|\n",
      "+---+--------+--------------------+------+-----+---------+------+-----+\n",
      "only showing top 5 rows\n",
      "\n"
     ]
    }
   ],
   "source": [
    "val train = 70\n",
    "val test = 15\n",
    "val validate = 15\n",
    "\n",
    "//Split the data into training data set, testing data set, and validation data set\n",
    "\n",
    "val splits = Sampling.trainingSplit(churnData, train, test, validate)\n",
    "\n",
    "val trainingDF = splits._1\n",
    "val testDF = splits._2\n",
    "val validationDF = splits._3\n",
    "\n",
    "println(\"Training data set\")\n",
    "trainingDF.show(5)\n",
    "\n",
    "println(\"Testing data set\")\n",
    "testDF.show(5)\n",
    "\n",
    "println(\"Validation data set\")\n",
    "validationDF.show(5)"
   ]
  },
  {
   "cell_type": "markdown",
   "metadata": {
    "deletable": true,
    "editable": true
   },
   "source": [
    "# Building and Evaluating LR model"
   ]
  },
  {
   "cell_type": "code",
   "execution_count": 5,
   "metadata": {
    "collapsed": true,
    "deletable": true,
    "editable": true
   },
   "outputs": [],
   "source": [
    "//Feature definition\n",
    "\n",
    "val genderIndexer = new StringIndexer().setInputCol(\"GENDER\").setOutputCol(\"gender_code\")\n",
    "val stateIndexer = new StringIndexer().setInputCol(\"STATE\").setOutputCol(\"state_code\")\n",
    "val educationIndexer = new StringIndexer().setInputCol(\"EDUCATION\").setOutputCol(\"education_code\")\n",
    "\n",
    "val featuresAssembler = new VectorAssembler().setInputCols(Array(\"AGE\", \n",
    "                                                         \"ACTIVITY\", \n",
    "                                                         \"education_code\", \n",
    "                                                         \"NEGTWEETS\", \n",
    "                                                         \"INCOME\",\n",
    "                                                         \"gender_code\",\n",
    "                                                         \"state_code\")).setOutputCol(\"features\")"
   ]
  },
  {
   "cell_type": "code",
   "execution_count": 6,
   "metadata": {
    "collapsed": true,
    "deletable": true,
    "editable": true
   },
   "outputs": [],
   "source": [
    "//Logistic Regression\n",
    "\n",
    "val lr = new LogisticRegression().setRegParam(0.01).setLabelCol(\"label\").setFeaturesCol(\"features\")"
   ]
  },
  {
   "cell_type": "code",
   "execution_count": 7,
   "metadata": {
    "collapsed": false,
    "deletable": true,
    "editable": true
   },
   "outputs": [],
   "source": [
    "import org.apache.spark.ml.{Pipeline, PipelineStage}\n",
    "\n",
    "val pipeline = new Pipeline().setStages(Array(genderIndexer, \n",
    "                                              stateIndexer, \n",
    "                                              educationIndexer,\n",
    "                                              featuresAssembler,\n",
    "                                              lr))\n",
    "val newModel = pipeline.fit(trainingDF)"
   ]
  },
  {
   "cell_type": "code",
   "execution_count": 8,
   "metadata": {
    "collapsed": false,
    "deletable": true,
    "editable": true
   },
   "outputs": [],
   "source": [
    "import org.apache.spark.ml.classification.{BinaryLogisticRegressionSummary, LogisticRegressionModel}\n",
    "\n",
    "// Extract the summary from the LogisticRegressionModel instance \n",
    "val lrModel = newModel.stages(4).asInstanceOf[LogisticRegressionModel]"
   ]
  },
  {
   "cell_type": "code",
   "execution_count": 9,
   "metadata": {
    "collapsed": false,
    "deletable": true,
    "editable": true
   },
   "outputs": [
    {
     "name": "stdout",
     "output_type": "stream",
     "text": [
      "Area under ROC curve for the initial model: 0.9949513568868407\n"
     ]
    }
   ],
   "source": [
    "import org.apache.spark.mllib.evaluation.MulticlassMetrics\n",
    "import org.apache.spark.mllib.regression.LabeledPoint\n",
    "\n",
    "val testDFWithPredictions = newModel.transform(testDF)\n",
    "val testData = testDFWithPredictions.drop(\"prediction\", \"rawPrediction\", \"probability\")\n",
    "val trainingSummary = lrModel.evaluate(testData)\n",
    "val binarySummary = trainingSummary.asInstanceOf[BinaryLogisticRegressionSummary]\n",
    "\n",
    "// The ROC curve and area under the ROC curve on test data\n",
    "val rocOnTestData = binarySummary.roc\n",
    "println(s\"Area under ROC curve for the initial model: ${binarySummary.areaUnderROC}\")"
   ]
  },
  {
   "cell_type": "markdown",
   "metadata": {
    "deletable": true,
    "editable": true
   },
   "source": [
    "## Displaying the evaluation results - ROC curve with Brunel"
   ]
  },
  {
   "cell_type": "code",
   "execution_count": 10,
   "metadata": {
    "collapsed": false,
    "deletable": true,
    "editable": true
   },
   "outputs": [
    {
     "data": {
      "text/html": [
       "\n",
       "         <link rel=\"stylesheet\" type=\"text/css\" href=\"/dsx-jupyter/ibmdsxuser-1010/1518550356220/nbextensions/brunel_ext/brunel.2.3.css\" charset=\"utf-8\">\n",
       "         <link rel=\"stylesheet\" type=\"text/css\" href=\"/dsx-jupyter/ibmdsxuser-1010/1518550356220/nbextensions/brunel_ext/sumoselect.css\" charset=\"utf-8\">\n",
       "         <style>  </style>\n",
       "         <div id=\"controlsId0601c97b-4922-4fc3-b771-de3cd012fb32\" class=\"brunel\"/>\n",
       "<svg id=\"visid77f53530-6822-4336-8aef-5341fb6a5527\" width=\"500\" height=\"400\"></svg>\n",
       "\n",
       "<script>\n",
       "require.config({\n",
       "            waitSeconds: 60,\n",
       "            paths: {\n",
       "                'd3': '//cdnjs.cloudflare.com/ajax/libs/d3/4.2.1/d3.min',\n",
       "                'topojson' : '//cdnjs.cloudflare.com/ajax/libs/topojson/1.6.20/topojson.min',\n",
       "                'brunel' : '/dsx-jupyter/ibmdsxuser-1010/1518550356220/nbextensions/brunel_ext/brunel.2.3.min',\n",
       "                'brunelControls' : '/dsx-jupyter/ibmdsxuser-1010/1518550356220/nbextensions/brunel_ext/brunel.controls.2.3.min'\n",
       "            },\n",
       "\n",
       "            shim: {\n",
       "               'brunel' : {\n",
       "                    exports: 'BrunelD3',\n",
       "                    deps: ['d3', 'topojson'],\n",
       "                    init: function() {\n",
       "                       return {\n",
       "                         BrunelD3 : BrunelD3,\n",
       "                         BrunelData : BrunelData\n",
       "                      }\n",
       "                    }\n",
       "                },\n",
       "               'brunelControls' : {\n",
       "                    exports: 'BrunelEventHandlers',\n",
       "                    init: function() {\n",
       "                       return {\n",
       "                         BrunelEventHandlers: BrunelEventHandlers,\n",
       "                         BrunelJQueryControlFactory: BrunelJQueryControlFactory\n",
       "                      }\n",
       "                    }\n",
       "                }\n",
       "\n",
       "            }\n",
       "\n",
       "        });\n",
       "\n",
       "        require([\"d3\"], function(d3) {\n",
       "        require([\"brunel\", \"brunelControls\"], function(brunel, brunelControls) {\n",
       "\n",
       "            function  BrunelVis(visId) {\n",
       "  \"use strict\";                                                                       // strict mode\n",
       "  var datasets = [],                                      // array of datasets for the original data\n",
       "      pre = function(d, i) { return d },                         // default pre-process does nothing\n",
       "      post = function(d, i) { return d },                       // default post-process does nothing\n",
       "      transitionTime = 200,                                        // transition time for animations\n",
       "      charts = [],                                                       // the charts in the system\n",
       "      vis = d3.select('#' + visId).attr('class', 'brunel');                     // the SVG container\n",
       "\n",
       "  BrunelD3.addDefinitions(vis);                                   // ensure standard symbols present\n",
       "\n",
       "  // Define chart #1 in the visualization //////////////////////////////////////////////////////////\n",
       "\n",
       "  charts[0] = function(parentNode, filterRows) {\n",
       "    var geom = BrunelD3.geometry(parentNode || vis.node(), 0, 0, 1, 1, 22, 43, 37, 13),\n",
       "      elements = [];                                              // array of elements in this chart\n",
       "\n",
       "    // Define groups for the chart parts ///////////////////////////////////////////////////////////\n",
       "\n",
       "    var chart =  vis.append('g').attr('class', 'chart1')\n",
       "      .attr('transform','translate(' + geom.chart_left + ',' + geom.chart_top + ')');\n",
       "    var overlay = chart.append('g').attr('class', 'element').attr('class', 'overlay');\n",
       "    var zoom = d3.zoom().scaleExtent([1/3,3]);\n",
       "    var zoomNode = overlay.append('rect').attr('class', 'overlay')\n",
       "      .attr('x', geom.inner_left).attr('y', geom.inner_top)\n",
       "      .attr('width', geom.inner_rawWidth).attr('height', geom.inner_rawHeight)\n",
       "      .style('cursor', 'move').call(zoom)\n",
       "      .node();\n",
       "    zoomNode.__zoom = d3.zoomIdentity;\n",
       "    chart.append('rect').attr('class', 'background').attr('width', geom.chart_right-geom.chart_left).attr('height', geom.chart_bottom-geom.chart_top);\n",
       "    var interior = chart.append('g').attr('class', 'interior zoomNone')\n",
       "      .attr('transform','translate(' + geom.inner_left + ',' + geom.inner_top + ')')\n",
       "      .attr('clip-path', 'url(#clip_visid77f53530-6822-4336-8aef-5341fb6a5527_chart1_inner)');\n",
       "    interior.append('rect').attr('class', 'inner').attr('width', geom.inner_width).attr('height', geom.inner_height);\n",
       "    var gridGroup = interior.append('g').attr('class', 'grid');\n",
       "    var axes = chart.append('g').attr('class', 'axis')\n",
       "      .attr('transform','translate(' + geom.inner_left + ',' + geom.inner_top + ')');\n",
       "    vis.append('clipPath').attr('id', 'clip_visid77f53530-6822-4336-8aef-5341fb6a5527_chart1_inner').append('rect')\n",
       "      .attr('x', 0).attr('y', 0)\n",
       "      .attr('width', geom.inner_rawWidth+1).attr('height', geom.inner_rawHeight+1);\n",
       "    chart.append('text').attr('class', 'title header').text('ROC').style('text-anchor', 'middle')\n",
       "      .attr('x','50%')\n",
       "      .attr('y',2).attr('dy','0.8em');\n",
       "\n",
       "    // Scales //////////////////////////////////////////////////////////////////////////////////////\n",
       "\n",
       "    var scale_x = d3.scaleLinear().domain([0, 1.0000001])\n",
       "      .range([0, geom.inner_width]);\n",
       "    var scale_inner = d3.scaleLinear().domain([0,1])\n",
       "      .range([-0.5, 0.5]);\n",
       "    var scale_y = d3.scaleLinear().domain([0, 1.0000001])\n",
       "      .range([geom.inner_height, 0]);\n",
       "    var base_scales = [scale_x, scale_y];                           // untransformed original scales\n",
       "\n",
       "    // Axes ////////////////////////////////////////////////////////////////////////////////////////\n",
       "\n",
       "    axes.append('g').attr('class', 'x axis')\n",
       "      .attr('transform','translate(0,' + geom.inner_rawHeight + ')')\n",
       "      .attr('clip-path', 'url(#clip_visid77f53530-6822-4336-8aef-5341fb6a5527_chart1_haxis)');\n",
       "    vis.append('clipPath').attr('id', 'clip_visid77f53530-6822-4336-8aef-5341fb6a5527_chart1_haxis').append('polyline')\n",
       "      .attr('points', '-1,-1000, -1,-1 -5,5, -1000,5, -100,1000, 10000,1000 10000,-1000');\n",
       "    axes.select('g.axis.x').append('text').attr('class', 'title').text('False Positive Rate').style('text-anchor', 'middle')\n",
       "      .attr('x',geom.inner_rawWidth/2)\n",
       "      .attr('y', geom.inner_bottom - 2.0).attr('dy','-0.27em');\n",
       "    axes.append('g').attr('class', 'y axis')\n",
       "      .attr('clip-path', 'url(#clip_visid77f53530-6822-4336-8aef-5341fb6a5527_chart1_vaxis)');\n",
       "    vis.append('clipPath').attr('id', 'clip_visid77f53530-6822-4336-8aef-5341fb6a5527_chart1_vaxis').append('polyline')\n",
       "      .attr('points', '-1000,-10000, 10000,-10000, 10000,' + (geom.inner_rawHeight+1) + ', -1,' + (geom.inner_rawHeight+1) + ', -1,' + (geom.inner_rawHeight+5) + ', -1000,' + (geom.inner_rawHeight+5) );\n",
       "    axes.select('g.axis.y').append('text').attr('class', 'title').text('True Positive Rate').style('text-anchor', 'middle')\n",
       "      .attr('x',-geom.inner_rawHeight/2)\n",
       "      .attr('y', 4-geom.inner_left).attr('dy', '0.7em').attr('transform', 'rotate(270)');\n",
       "\n",
       "    var axis_bottom = d3.axisBottom(scale_x).ticks(Math.min(10, Math.round(geom.inner_width / 33.0)));\n",
       "    var axis_left = d3.axisLeft(scale_y).ticks(Math.min(10, Math.round(geom.inner_width / 20)));\n",
       "\n",
       "    function buildAxes(time) {\n",
       "      var axis_x = axes.select('g.axis.x');\n",
       "      BrunelD3.transition(axis_x, time).call(axis_bottom.scale(scale_x));\n",
       "      var axis_y = axes.select('g.axis.y');\n",
       "      BrunelD3.transition(axis_y, time).call(axis_left.scale(scale_y));\n",
       "      BrunelD3.makeGrid(gridGroup, scale_x, geom.inner_height, true );\n",
       "      BrunelD3.makeGrid(gridGroup, scale_y, geom.inner_width, false );\n",
       "    }\n",
       "    zoom.on('zoom', function(t, time) {\n",
       "        t = t ||BrunelD3.restrictZoom(d3.event.transform, geom, this);\n",
       "        scale_x = t.rescaleX(base_scales[0]);\n",
       "        scale_y = t.rescaleY(base_scales[1]);\n",
       "        zoomNode.__zoom = t;\n",
       "        interior.attr('class', 'interior ' + BrunelD3.zoomLabel(t.k));;\n",
       "        build(time || -1);\n",
       "    });\n",
       "\n",
       "    // Define element #1 ///////////////////////////////////////////////////////////////////////////\n",
       "\n",
       "    elements[0] = function() {\n",
       "      var original, processed,                           // data sets passed in and then transformed\n",
       "        element, data,                                 // brunel element information and brunel data\n",
       "        selection, merged;                                      // d3 selection and merged selection\n",
       "      var elementGroup = interior.append('g').attr('class', 'element1'),\n",
       "        main = elementGroup.append('g').attr('class', 'main'),\n",
       "        labels = BrunelD3.undoTransform(elementGroup.append('g').attr('class', 'labels').attr('aria-hidden', 'true'), elementGroup);\n",
       "\n",
       "      function makeData() {\n",
       "        original = datasets[0];\n",
       "        if (filterRows) original = original.retainRows(filterRows);\n",
       "        processed = pre(original, 0)\n",
       "          .sortRows('FPR:ascending');\n",
       "        processed = post(processed, 0);\n",
       "        var f0 = processed.field('FPR'),\n",
       "          f1 = processed.field('TPR'),\n",
       "          f2 = processed.field('#row'),\n",
       "          f3 = processed.field('#selection');\n",
       "        var keyFunc = function(d) { return 'ALL' };\n",
       "        data = {\n",
       "          FPR:          function(d) { return f0.value(d.row) },\n",
       "          TPR:          function(d) { return f1.value(d.row) },\n",
       "          $row:         function(d) { return f2.value(d.row) },\n",
       "          $selection:   function(d) { return f3.value(d.row) },\n",
       "          FPR_f:        function(d) { return f0.valueFormatted(d.row) },\n",
       "          TPR_f:        function(d) { return f1.valueFormatted(d.row) },\n",
       "          $row_f:       function(d) { return f2.valueFormatted(d.row) },\n",
       "          $selection_f: function(d) { return f3.valueFormatted(d.row) },\n",
       "          _split:       function(d) { return 'ALL' },\n",
       "          _key:         keyFunc,\n",
       "          _rows:        BrunelD3.makeRowsWithKeys(keyFunc, processed.rowCount())\n",
       "        };\n",
       "      }\n",
       "\n",
       "      // Build element from data ///////////////////////////////////////////////////////////////////\n",
       "\n",
       "      function build(transitionMillis) {\n",
       "        element = elements[0];\n",
       "        var w = geom.default_point_size;\n",
       "        var x = function(d) { return scale_x(data.FPR(d))};\n",
       "        var h = geom.default_point_size;\n",
       "        var y = function(d) { return scale_y(data.TPR(d))};\n",
       "        // Define paths\n",
       "        var path = d3.line().x(x).y(y);\n",
       "        var splits = BrunelD3.makePathSplits(data, path, x);\n",
       "\n",
       "        // Define selection entry operations\n",
       "        function initialState(selection) {\n",
       "          selection\n",
       "            .attr('class', 'element line')\n",
       "        }\n",
       "\n",
       "        // Define selection update operations on merged data\n",
       "        function updateState(selection) {\n",
       "          selection\n",
       "            .attr('d', function(d) { return d.path });\n",
       "        }\n",
       "\n",
       "        // Define labeling for the selection\n",
       "        function label(selection, transitionMillis) {\n",
       "\n",
       "          var tooltipLabeling  = {\n",
       "            index: -1, method: 'path', location: ['center', 'center'], inside: true, align: 'middle', pad: 0, dy: 0.3,\n",
       "            fit: true, granularity: 0,\n",
       "            path: path,\n",
       "            content: function(d) {\n",
       "              return d.row == null ? null : '<span class=\"title\">FPR: </span>'\n",
       "\t\t\t+ '<span class=\"field\">' + data.FPR_f(d) + '</span>'\n",
       "\t\t\t+ '<br/>'\n",
       "\t\t\t+ '<span class=\"title\">TPR: </span>'\n",
       "\t\t\t+ '<span class=\"field\">' + data.TPR_f(d) + '</span>'\n",
       "            }\n",
       "          };\n",
       "          BrunelD3.addTooltip(selection, tooltipLabeling, geom);\n",
       "        }\n",
       "        // Create selections, set the initial state and transition updates\n",
       "        selection = main.selectAll('.element').data(splits, function(d) { return d.key });\n",
       "        var added = selection.enter().append('path');\n",
       "        merged = selection.merge(added);\n",
       "        initialState(added);\n",
       "        selection.filter(BrunelD3.hasData)\n",
       "          .classed('selected', BrunelD3.isSelected(data))\n",
       "          .filter(BrunelD3.isSelected(data)).raise();\n",
       "        updateState(BrunelD3.transition(merged, transitionMillis));\n",
       "        label(merged, transitionMillis);\n",
       "\n",
       "        BrunelD3.transition(selection.exit(), transitionMillis/3)\n",
       "          .style('opacity', 0.5).each( function() {\n",
       "            this.remove(); BrunelD3.removeLabels(this); \n",
       "        });\n",
       "      }\n",
       "\n",
       "      return {\n",
       "        data:           function() { return processed },\n",
       "        original:       function() { return original },\n",
       "        internal:       function() { return data },\n",
       "        selection:      function() { return merged },\n",
       "        makeData:       makeData,\n",
       "        build:          build,\n",
       "        chart:          function() { return charts[0] },\n",
       "        group:          function() { return elementGroup },\n",
       "        fields: {\n",
       "          x:            ['FPR'],\n",
       "          y:            ['TPR']\n",
       "        }\n",
       "      };\n",
       "    }();\n",
       "\n",
       "    function build(time, noData) {\n",
       "      var first = elements[0].data() == null;\n",
       "      if (first) time = 0;                                           // no transition for first call\n",
       "      buildAxes(time);\n",
       "      if ((first || time > -1) && !noData) {\n",
       "        elements[0].makeData();\n",
       "      }\n",
       "      elements[0].build(time);\n",
       "    }\n",
       "\n",
       "    // Expose the following components of the chart\n",
       "    return {\n",
       "      elements : elements,\n",
       "      interior : interior,\n",
       "      scales: {x:scale_x, y:scale_y},\n",
       "      zoom: function(params, time) {\n",
       "          if (params) zoom.on('zoom').call(zoomNode, params, time);\n",
       "          return d3.zoomTransform(zoomNode);\n",
       "      },\n",
       "      build : build\n",
       "    };\n",
       "    }();\n",
       "\n",
       "  function setData(rowData, i) { datasets[i||0] = BrunelD3.makeData(rowData) }\n",
       "  function updateAll(time) { charts.forEach(function(x) {x.build(time || 0)}) }\n",
       "  function buildAll() {\n",
       "    for (var i=0;i<arguments.length;i++) setData(arguments[i], i);\n",
       "    updateAll(transitionTime);\n",
       "  }\n",
       "\n",
       "  return {\n",
       "    dataPreProcess:     function(f) { if (f) pre = f; return pre },\n",
       "    dataPostProcess:    function(f) { if (f) post = f; return post },\n",
       "    data:               function(d,i) { if (d) setData(d,i); return datasets[i||0] },\n",
       "    visId:              visId,\n",
       "    build:              buildAll,\n",
       "    rebuild:            updateAll,\n",
       "    charts:             charts\n",
       "  }\n",
       "}\n",
       "\n",
       "// Data Tables /////////////////////////////////////////////////////////////////////////////////////\n",
       "\n",
       "var table1 = {\n",
       "   summarized: false,\n",
       "   names: ['FPR', 'TPR'], \n",
       "   options: ['numeric', 'numeric'], \n",
       "   rows: [[0, 0], [0, 0.0355556], [0, 0.0711111], [0, 0.1066667], [0, 0.1422222], [0, 0.1777778],\n",
       "  [0, 0.2133333], [0, 0.2488889], [0, 0.2844444], [0, 0.32], [0, 0.3555556], [0, 0.3911111],\n",
       "  [0, 0.4266667], [0, 0.4622222], [0, 0.4977778], [0, 0.5333333], [0, 0.5688889], [0, 0.6044444],\n",
       "  [0, 0.64], [0, 0.6755556], [0, 0.7111111], [0, 0.7466667], [0, 0.7822222], [0, 0.8177778],\n",
       "  [0, 0.8533333], [0, 0.8888889], [0.0015361, 0.92], [0.0061444, 0.9422222], [0.0138249, 0.9555556],\n",
       "  [0.0261137, 0.9555556], [0.0368664, 0.96], [0.0460829, 0.9688889], [0.0583717, 0.9688889],\n",
       "  [0.0691244, 0.9733333], [0.0814132, 0.9733333], [0.0921659, 0.9777778], [0.1029186, 0.9822222],\n",
       "  [0.1136713, 0.9866667], [0.1259601, 0.9866667], [0.1382488, 0.9866667], [0.1505376, 0.9866667],\n",
       "  [0.1628264, 0.9866667], [0.1735791, 0.9911111], [0.1843318, 0.9955556], [0.1966206, 0.9955556],\n",
       "  [0.2089094, 0.9955556], [0.2211982, 0.9955556], [0.2334869, 0.9955556], [0.2457757, 0.9955556],\n",
       "  [0.2580645, 0.9955556], [0.2688172, 1], [0.281106, 1], [0.2933948, 1], [0.3056836, 1],\n",
       "  [0.3179724, 1], [0.3302611, 1], [0.3425499, 1], [0.3548387, 1], [0.3671275, 1], [0.3794163, 1],\n",
       "  [0.3917051, 1], [0.4039939, 1], [0.4162826, 1], [0.4285714, 1], [0.4408602, 1], [0.453149, 1],\n",
       "  [0.4654378, 1], [0.4777266, 1], [0.4900154, 1], [0.5023041, 1], [0.5145929, 1], [0.5268817, 1],\n",
       "  [0.5391705, 1], [0.5514593, 1], [0.5637481, 1], [0.5760369, 1], [0.5883257, 1], [0.6006144, 1],\n",
       "  [0.6129032, 1], [0.625192, 1], [0.6374808, 1], [0.6497696, 1], [0.6620584, 1], [0.6743472, 1],\n",
       "  [0.6866359, 1], [0.6989247, 1], [0.7112135, 1], [0.7235023, 1], [0.7357911, 1], [0.7480799, 1],\n",
       "  [0.7603687, 1], [0.7726575, 1], [0.7849462, 1], [0.797235, 1], [0.8095238, 1], [0.8218126, 1],\n",
       "  [0.8341014, 1], [0.8463902, 1], [0.858679, 1], [0.8709677, 1], [0.8832565, 1], [0.8955453, 1],\n",
       "  [0.9078341, 1], [0.9201229, 1], [0.9324117, 1], [0.9447005, 1], [0.9569892, 1], [0.969278, 1],\n",
       "  [0.9815668, 1], [0.9938556, 1], [1, 1], [1, 1]]\n",
       "};\n",
       "\n",
       "// Call Code to Build the system ///////////////////////////////////////////////////////////////////\n",
       "\n",
       "var v = new BrunelVis('visid77f53530-6822-4336-8aef-5341fb6a5527');\n",
       "v .build(table1);\n",
       "\n",
       "            \"\"\n",
       "        });\n",
       "        });\n",
       "        </script>"
      ]
     },
     "execution_count": 10,
     "metadata": {},
     "output_type": "execute_result"
    }
   ],
   "source": [
    "%%brunel data('rocOnTestData') x(FPR) y(TPR) line tooltip(#all) axes(x:'False Positive Rate':grid, y:'True Positive Rate':grid) title('ROC')"
   ]
  },
  {
   "cell_type": "markdown",
   "metadata": {
    "deletable": true,
    "editable": true
   },
   "source": [
    "#  Save locally:  Save trained model to DSX Local Project"
   ]
  },
  {
   "cell_type": "code",
   "execution_count": 11,
   "metadata": {
    "collapsed": false,
    "deletable": true,
    "editable": true
   },
   "outputs": [
    {
     "data": {
      "text/plain": [
       "Success(/user-home/1010/DSX_Projects/AllHandsCustomerChurnLab/models/BankingChurnMLNotebookModelLR/1)"
      ]
     },
     "execution_count": 11,
     "metadata": {},
     "output_type": "execute_result"
    }
   ],
   "source": [
    "// DSX Local Machine Learning - Use ML client to save model.\n",
    "\n",
    "import com.ibm.analytics.ngp.dsxML._\n",
    "import spray.json._\n",
    "\n",
    "val ml_client=ML()\n",
    "//val modelName=\"TODO_CHANGE_TO_TEAMNAME Banking Churn Notebook Model LR\"\n",
    "val modelName=\"BankingChurnMLNotebookModelLR\"\n",
    "\n",
    "// API specification:  save(model, trainData, testData, metrics, name, description,filename, algorithmType, props: (String,String)*)\n",
    "val saveResult=ml_client.save(newModel,\n",
    "                              trainingDF,\n",
    "                              testDF,\n",
    "                              None,\n",
    "                              modelName,\n",
    "                              \"Prediction for customer to churn from business\",\n",
    "                              \"Churn ML Training Notebook Scala HDP LR.ipynb\",\n",
    "                              \"Classification\")\n",
    "\n",
    "saveResult"
   ]
  },
  {
   "cell_type": "markdown",
   "metadata": {
    "deletable": true,
    "editable": true
   },
   "source": [
    "## Test Locally:  Test model in DSX Local Project"
   ]
  },
  {
   "cell_type": "code",
   "execution_count": null,
   "metadata": {
    "collapsed": false,
    "deletable": true,
    "editable": true
   },
   "outputs": [
    {
     "name": "stdout",
     "output_type": "stream",
     "text": [
      "http://dsx-scripted-ml-python2-svc.dsxl-ml:7300/api/v1/score/unpublished/AllHandsCustomerChurnLab/BankingChurnMLNotebookModelLR\n"
     ]
    }
   ],
   "source": [
    "import play.api.libs.json._\n",
    "import scalaj.http.{Http,HttpOptions}\n",
    "\n",
    "val json_map=Json.toJson(List(Json.toJson(Map(\n",
    "    \"AGE\"->Json.toJson(23),\n",
    "    \"ACTIVITY\"->Json.toJson(3),\n",
    "    \"EDUCATION\"->Json.toJson(\"Masters degree\"),\n",
    "    \"GENDER\"->Json.toJson(\"M\"),\n",
    "    \"STATE\"->Json.toJson(\"NY\"),\n",
    "    \"NEGTWEETS\"->Json.toJson(7),\n",
    "    \"INCOME\"->Json.toJson(878657)\n",
    "))))\n",
    "\n",
    "val projectName=sys.env(\"DSX_PROJECT_NAME\")\n",
    "val authToken=sys.env(\"DSX_TOKEN\")\n",
    "\n",
    "val scoringURL=s\"http://dsx-scripted-ml-python2-svc.dsxl-ml:7300/api/v1/score/unpublished/${projectName}/${modelName}\"\n",
    "println(scoringURL)\n",
    "\n",
    "val payload_scoring=Json.stringify(json_map)\n",
    "println(payload_scoring)\n",
    "\n",
    "val response_scoring=Http(scoringURL).postData(payload_scoring).header(\"Content-Type\",\"application/json\").header(\"Authorization\",authToken).option(HttpOptions.connTimeout(10000)).option(HttpOptions.readTimeout(50000)).asString\n",
    "response_scoring"
   ]
  },
  {
   "cell_type": "markdown",
   "metadata": {
    "deletable": true,
    "editable": true
   },
   "source": [
    "Developed/Updated by Alexander Petrov, Matt Walli, Anup Nair Data Science Elite Team, IBM Analytics"
   ]
  }
 ],
 "metadata": {
  "kernelspec": {
   "display_name": "Apache Toree - Scala",
   "language": "scala",
   "name": "apache_toree_scala"
  },
  "language_info": {
   "file_extension": ".scala",
   "name": "scala",
   "version": "2.11.8"
  }
 },
 "nbformat": 4,
 "nbformat_minor": 2
}
